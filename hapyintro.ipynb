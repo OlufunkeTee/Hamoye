{
  "nbformat": 4,
  "nbformat_minor": 0,
  "metadata": {
    "colab": {
      "name": "hapyintro.ipynb",
      "provenance": [],
      "authorship_tag": "ABX9TyOguSd1sHWDfpD3CE3ZFvQT",
      "include_colab_link": true
    },
    "kernelspec": {
      "name": "python3",
      "display_name": "Python 3"
    },
    "language_info": {
      "name": "python"
    }
  },
  "cells": [
    {
      "cell_type": "markdown",
      "metadata": {
        "id": "view-in-github",
        "colab_type": "text"
      },
      "source": [
        "<a href=\"https://colab.research.google.com/github/OlufunkeTee/Hamoye/blob/main/hapyintro.ipynb\" target=\"_parent\"><img src=\"https://colab.research.google.com/assets/colab-badge.svg\" alt=\"Open In Colab\"/></a>"
      ]
    },
    {
      "cell_type": "markdown",
      "metadata": {
        "id": "n2Wf_4cAlKZ9"
      },
      "source": [
        "Importing needed libraries"
      ]
    },
    {
      "cell_type": "code",
      "metadata": {
        "colab": {
          "base_uri": "https://localhost:8080/"
        },
        "id": "aWISDTMllabt",
        "outputId": "96653a3f-6bb5-419a-9e50-9fc72017b733"
      },
      "source": [
        "import numpy as np\n",
        "import pandas as pd\n",
        "import matplotlib.pyplot as plt\n",
        "%matplotlib \n",
        "import seaborn as sns"
      ],
      "execution_count": 68,
      "outputs": [
        {
          "output_type": "stream",
          "text": [
            "Using matplotlib backend: agg\n"
          ],
          "name": "stdout"
        }
      ]
    },
    {
      "cell_type": "code",
      "metadata": {
        "id": "x1ZKV-kAlyEb"
      },
      "source": [
        "hd = pd.read_csv('HDSCDataset.csv')"
      ],
      "execution_count": 69,
      "outputs": []
    },
    {
      "cell_type": "code",
      "metadata": {
        "colab": {
          "base_uri": "https://localhost:8080/",
          "height": 224
        },
        "id": "oPylXcr0mBFO",
        "outputId": "9cae07a6-4c94-4559-ea3e-01235b50c334"
      },
      "source": [
        "hd.head()"
      ],
      "execution_count": 4,
      "outputs": [
        {
          "output_type": "execute_result",
          "data": {
            "text/html": [
              "<div>\n",
              "<style scoped>\n",
              "    .dataframe tbody tr th:only-of-type {\n",
              "        vertical-align: middle;\n",
              "    }\n",
              "\n",
              "    .dataframe tbody tr th {\n",
              "        vertical-align: top;\n",
              "    }\n",
              "\n",
              "    .dataframe thead th {\n",
              "        text-align: right;\n",
              "    }\n",
              "</style>\n",
              "<table border=\"1\" class=\"dataframe\">\n",
              "  <thead>\n",
              "    <tr style=\"text-align: right;\">\n",
              "      <th></th>\n",
              "      <th>record_id</th>\n",
              "      <th>utility_id_ferc1</th>\n",
              "      <th>report_year</th>\n",
              "      <th>plant_name_ferc1</th>\n",
              "      <th>fuel_type_code_pudl</th>\n",
              "      <th>fuel_unit</th>\n",
              "      <th>fuel_qty_burned</th>\n",
              "      <th>fuel_mmbtu_per_unit</th>\n",
              "      <th>fuel_cost_per_unit_burned</th>\n",
              "      <th>fuel_cost_per_unit_delivered</th>\n",
              "      <th>fuel_cost_per_mmbtu</th>\n",
              "    </tr>\n",
              "  </thead>\n",
              "  <tbody>\n",
              "    <tr>\n",
              "      <th>0</th>\n",
              "      <td>f1_fuel_1994_12_1_0_7</td>\n",
              "      <td>1</td>\n",
              "      <td>1994</td>\n",
              "      <td>rockport</td>\n",
              "      <td>coal</td>\n",
              "      <td>ton</td>\n",
              "      <td>5377489.0</td>\n",
              "      <td>16.590</td>\n",
              "      <td>18.59</td>\n",
              "      <td>18.53</td>\n",
              "      <td>1.121</td>\n",
              "    </tr>\n",
              "    <tr>\n",
              "      <th>1</th>\n",
              "      <td>f1_fuel_1994_12_1_0_10</td>\n",
              "      <td>1</td>\n",
              "      <td>1994</td>\n",
              "      <td>rockport total plant</td>\n",
              "      <td>coal</td>\n",
              "      <td>ton</td>\n",
              "      <td>10486945.0</td>\n",
              "      <td>16.592</td>\n",
              "      <td>18.58</td>\n",
              "      <td>18.53</td>\n",
              "      <td>1.120</td>\n",
              "    </tr>\n",
              "    <tr>\n",
              "      <th>2</th>\n",
              "      <td>f1_fuel_1994_12_2_0_1</td>\n",
              "      <td>2</td>\n",
              "      <td>1994</td>\n",
              "      <td>gorgas</td>\n",
              "      <td>coal</td>\n",
              "      <td>ton</td>\n",
              "      <td>2978683.0</td>\n",
              "      <td>24.130</td>\n",
              "      <td>39.72</td>\n",
              "      <td>38.12</td>\n",
              "      <td>1.650</td>\n",
              "    </tr>\n",
              "    <tr>\n",
              "      <th>3</th>\n",
              "      <td>f1_fuel_1994_12_2_0_7</td>\n",
              "      <td>2</td>\n",
              "      <td>1994</td>\n",
              "      <td>barry</td>\n",
              "      <td>coal</td>\n",
              "      <td>ton</td>\n",
              "      <td>3739484.0</td>\n",
              "      <td>23.950</td>\n",
              "      <td>47.21</td>\n",
              "      <td>45.99</td>\n",
              "      <td>1.970</td>\n",
              "    </tr>\n",
              "    <tr>\n",
              "      <th>4</th>\n",
              "      <td>f1_fuel_1994_12_2_0_10</td>\n",
              "      <td>2</td>\n",
              "      <td>1994</td>\n",
              "      <td>chickasaw</td>\n",
              "      <td>gas</td>\n",
              "      <td>mcf</td>\n",
              "      <td>40533.0</td>\n",
              "      <td>1.000</td>\n",
              "      <td>2.77</td>\n",
              "      <td>2.77</td>\n",
              "      <td>2.570</td>\n",
              "    </tr>\n",
              "  </tbody>\n",
              "</table>\n",
              "</div>"
            ],
            "text/plain": [
              "                record_id  ...  fuel_cost_per_mmbtu\n",
              "0   f1_fuel_1994_12_1_0_7  ...                1.121\n",
              "1  f1_fuel_1994_12_1_0_10  ...                1.120\n",
              "2   f1_fuel_1994_12_2_0_1  ...                1.650\n",
              "3   f1_fuel_1994_12_2_0_7  ...                1.970\n",
              "4  f1_fuel_1994_12_2_0_10  ...                2.570\n",
              "\n",
              "[5 rows x 11 columns]"
            ]
          },
          "metadata": {
            "tags": []
          },
          "execution_count": 4
        }
      ]
    },
    {
      "cell_type": "code",
      "metadata": {
        "colab": {
          "base_uri": "https://localhost:8080/"
        },
        "id": "ABnvUMubmDK2",
        "outputId": "331d8902-414b-41eb-f9c6-4939931bbccb"
      },
      "source": [
        "hd.isnull().sum()"
      ],
      "execution_count": 5,
      "outputs": [
        {
          "output_type": "execute_result",
          "data": {
            "text/plain": [
              "record_id                         0\n",
              "utility_id_ferc1                  0\n",
              "report_year                       0\n",
              "plant_name_ferc1                  0\n",
              "fuel_type_code_pudl               0\n",
              "fuel_unit                       180\n",
              "fuel_qty_burned                   0\n",
              "fuel_mmbtu_per_unit               0\n",
              "fuel_cost_per_unit_burned         0\n",
              "fuel_cost_per_unit_delivered      0\n",
              "fuel_cost_per_mmbtu               0\n",
              "dtype: int64"
            ]
          },
          "metadata": {
            "tags": []
          },
          "execution_count": 5
        }
      ]
    },
    {
      "cell_type": "code",
      "metadata": {
        "colab": {
          "base_uri": "https://localhost:8080/"
        },
        "id": "5wXF3bGvvOk6",
        "outputId": "2d50776a-20d0-4603-9874-9880be07a871"
      },
      "source": [
        "print((180/29523)* 100)"
      ],
      "execution_count": 71,
      "outputs": [
        {
          "output_type": "stream",
          "text": [
            "0.609694136774718\n"
          ],
          "name": "stdout"
        }
      ]
    },
    {
      "cell_type": "code",
      "metadata": {
        "colab": {
          "base_uri": "https://localhost:8080/"
        },
        "id": "8iQigvl5uxjy",
        "outputId": "83bef0d1-7a55-43e5-bb78-b90f5dbfe24f"
      },
      "source": [
        "hd.info()"
      ],
      "execution_count": 33,
      "outputs": [
        {
          "output_type": "stream",
          "text": [
            "<class 'pandas.core.frame.DataFrame'>\n",
            "RangeIndex: 29523 entries, 0 to 29522\n",
            "Data columns (total 11 columns):\n",
            " #   Column                        Non-Null Count  Dtype  \n",
            "---  ------                        --------------  -----  \n",
            " 0   record_id                     29523 non-null  object \n",
            " 1   utility_id_ferc1              29523 non-null  int64  \n",
            " 2   report_year                   29523 non-null  int64  \n",
            " 3   plant_name_ferc1              29523 non-null  object \n",
            " 4   fuel_type_code_pudl           29523 non-null  object \n",
            " 5   fuel_unit                     29343 non-null  object \n",
            " 6   fuel_qty_burned               29523 non-null  float64\n",
            " 7   fuel_mmbtu_per_unit           29523 non-null  float64\n",
            " 8   fuel_cost_per_unit_burned     29523 non-null  float64\n",
            " 9   fuel_cost_per_unit_delivered  29523 non-null  float64\n",
            " 10  fuel_cost_per_mmbtu           29523 non-null  float64\n",
            "dtypes: float64(5), int64(2), object(4)\n",
            "memory usage: 2.5+ MB\n"
          ],
          "name": "stdout"
        }
      ]
    },
    {
      "cell_type": "code",
      "metadata": {
        "id": "CKh4dBFa2FSb"
      },
      "source": [
        "ftcp = hd.groupby('fuel_type_code_pudl')"
      ],
      "execution_count": 72,
      "outputs": []
    },
    {
      "cell_type": "code",
      "metadata": {
        "colab": {
          "base_uri": "https://localhost:8080/"
        },
        "id": "z8tNN5vYpoEt",
        "outputId": "ba29e509-357c-4211-c6d2-d034113a9434"
      },
      "source": [
        "hd.groupby('fuel_type_code_pudl')['fuel_type_code_pudl'].count()"
      ],
      "execution_count": 18,
      "outputs": [
        {
          "output_type": "execute_result",
          "data": {
            "text/plain": [
              "fuel_type_code_pudl\n",
              "coal        8547\n",
              "gas        11486\n",
              "nuclear      818\n",
              "oil         8064\n",
              "other        167\n",
              "waste        441\n",
              "Name: fuel_type_code_pudl, dtype: int64"
            ]
          },
          "metadata": {
            "tags": []
          },
          "execution_count": 18
        }
      ]
    },
    {
      "cell_type": "code",
      "metadata": {
        "colab": {
          "base_uri": "https://localhost:8080/",
          "height": 1000
        },
        "id": "UvI57bCP1mOR",
        "outputId": "1e86e611-84fd-4429-c35c-289f125d9ab3"
      },
      "source": [
        "#lowest average fuel cost per unit burned\n",
        "ftcp.describe().transpose()[['coal', 'gas', 'nuclear', 'oil', 'other', 'waste']]"
      ],
      "execution_count": 73,
      "outputs": [
        {
          "output_type": "execute_result",
          "data": {
            "text/html": [
              "<div>\n",
              "<style scoped>\n",
              "    .dataframe tbody tr th:only-of-type {\n",
              "        vertical-align: middle;\n",
              "    }\n",
              "\n",
              "    .dataframe tbody tr th {\n",
              "        vertical-align: top;\n",
              "    }\n",
              "\n",
              "    .dataframe thead th {\n",
              "        text-align: right;\n",
              "    }\n",
              "</style>\n",
              "<table border=\"1\" class=\"dataframe\">\n",
              "  <thead>\n",
              "    <tr style=\"text-align: right;\">\n",
              "      <th></th>\n",
              "      <th>fuel_type_code_pudl</th>\n",
              "      <th>coal</th>\n",
              "      <th>gas</th>\n",
              "      <th>nuclear</th>\n",
              "      <th>oil</th>\n",
              "      <th>other</th>\n",
              "      <th>waste</th>\n",
              "    </tr>\n",
              "  </thead>\n",
              "  <tbody>\n",
              "    <tr>\n",
              "      <th rowspan=\"8\" valign=\"top\">utility_id_ferc1</th>\n",
              "      <th>count</th>\n",
              "      <td>8.547000e+03</td>\n",
              "      <td>1.148600e+04</td>\n",
              "      <td>8.180000e+02</td>\n",
              "      <td>8.064000e+03</td>\n",
              "      <td>1.670000e+02</td>\n",
              "      <td>441.000000</td>\n",
              "    </tr>\n",
              "    <tr>\n",
              "      <th>mean</th>\n",
              "      <td>1.156375e+02</td>\n",
              "      <td>1.241221e+02</td>\n",
              "      <td>1.073973e+02</td>\n",
              "      <td>1.132362e+02</td>\n",
              "      <td>1.104671e+02</td>\n",
              "      <td>154.253968</td>\n",
              "    </tr>\n",
              "    <tr>\n",
              "      <th>std</th>\n",
              "      <td>7.285933e+01</td>\n",
              "      <td>7.374393e+01</td>\n",
              "      <td>7.897345e+01</td>\n",
              "      <td>7.599838e+01</td>\n",
              "      <td>4.714573e+01</td>\n",
              "      <td>53.367073</td>\n",
              "    </tr>\n",
              "    <tr>\n",
              "      <th>min</th>\n",
              "      <td>1.000000e+00</td>\n",
              "      <td>1.000000e+00</td>\n",
              "      <td>2.000000e+00</td>\n",
              "      <td>1.000000e+00</td>\n",
              "      <td>2.000000e+00</td>\n",
              "      <td>9.000000</td>\n",
              "    </tr>\n",
              "    <tr>\n",
              "      <th>25%</th>\n",
              "      <td>5.100000e+01</td>\n",
              "      <td>5.600000e+01</td>\n",
              "      <td>3.900000e+01</td>\n",
              "      <td>4.500000e+01</td>\n",
              "      <td>8.900000e+01</td>\n",
              "      <td>121.000000</td>\n",
              "    </tr>\n",
              "    <tr>\n",
              "      <th>50%</th>\n",
              "      <td>1.220000e+02</td>\n",
              "      <td>1.340000e+02</td>\n",
              "      <td>1.170000e+02</td>\n",
              "      <td>1.200000e+02</td>\n",
              "      <td>9.900000e+01</td>\n",
              "      <td>182.000000</td>\n",
              "    </tr>\n",
              "    <tr>\n",
              "      <th>75%</th>\n",
              "      <td>1.740000e+02</td>\n",
              "      <td>1.770000e+02</td>\n",
              "      <td>1.610000e+02</td>\n",
              "      <td>1.700000e+02</td>\n",
              "      <td>1.320000e+02</td>\n",
              "      <td>194.000000</td>\n",
              "    </tr>\n",
              "    <tr>\n",
              "      <th>max</th>\n",
              "      <td>5.140000e+02</td>\n",
              "      <td>5.130000e+02</td>\n",
              "      <td>4.540000e+02</td>\n",
              "      <td>5.140000e+02</td>\n",
              "      <td>2.810000e+02</td>\n",
              "      <td>432.000000</td>\n",
              "    </tr>\n",
              "    <tr>\n",
              "      <th rowspan=\"8\" valign=\"top\">report_year</th>\n",
              "      <th>count</th>\n",
              "      <td>8.547000e+03</td>\n",
              "      <td>1.148600e+04</td>\n",
              "      <td>8.180000e+02</td>\n",
              "      <td>8.064000e+03</td>\n",
              "      <td>1.670000e+02</td>\n",
              "      <td>441.000000</td>\n",
              "    </tr>\n",
              "    <tr>\n",
              "      <th>mean</th>\n",
              "      <td>2.004623e+03</td>\n",
              "      <td>2.005978e+03</td>\n",
              "      <td>2.002971e+03</td>\n",
              "      <td>2.007196e+03</td>\n",
              "      <td>2.001701e+03</td>\n",
              "      <td>2005.650794</td>\n",
              "    </tr>\n",
              "    <tr>\n",
              "      <th>std</th>\n",
              "      <td>7.137389e+00</td>\n",
              "      <td>7.280214e+00</td>\n",
              "      <td>7.155665e+00</td>\n",
              "      <td>6.140652e+00</td>\n",
              "      <td>5.712505e+00</td>\n",
              "      <td>7.460231</td>\n",
              "    </tr>\n",
              "    <tr>\n",
              "      <th>min</th>\n",
              "      <td>1.994000e+03</td>\n",
              "      <td>1.994000e+03</td>\n",
              "      <td>1.994000e+03</td>\n",
              "      <td>1.994000e+03</td>\n",
              "      <td>1.994000e+03</td>\n",
              "      <td>1994.000000</td>\n",
              "    </tr>\n",
              "    <tr>\n",
              "      <th>25%</th>\n",
              "      <td>1.998000e+03</td>\n",
              "      <td>1.999250e+03</td>\n",
              "      <td>1.997000e+03</td>\n",
              "      <td>2.003000e+03</td>\n",
              "      <td>1.997000e+03</td>\n",
              "      <td>1998.000000</td>\n",
              "    </tr>\n",
              "    <tr>\n",
              "      <th>50%</th>\n",
              "      <td>2.004000e+03</td>\n",
              "      <td>2.006000e+03</td>\n",
              "      <td>2.001000e+03</td>\n",
              "      <td>2.007000e+03</td>\n",
              "      <td>2.000000e+03</td>\n",
              "      <td>2006.000000</td>\n",
              "    </tr>\n",
              "    <tr>\n",
              "      <th>75%</th>\n",
              "      <td>2.011000e+03</td>\n",
              "      <td>2.012000e+03</td>\n",
              "      <td>2.008000e+03</td>\n",
              "      <td>2.012000e+03</td>\n",
              "      <td>2.006000e+03</td>\n",
              "      <td>2012.000000</td>\n",
              "    </tr>\n",
              "    <tr>\n",
              "      <th>max</th>\n",
              "      <td>2.018000e+03</td>\n",
              "      <td>2.018000e+03</td>\n",
              "      <td>2.018000e+03</td>\n",
              "      <td>2.018000e+03</td>\n",
              "      <td>2.016000e+03</td>\n",
              "      <td>2018.000000</td>\n",
              "    </tr>\n",
              "    <tr>\n",
              "      <th rowspan=\"8\" valign=\"top\">fuel_qty_burned</th>\n",
              "      <th>count</th>\n",
              "      <td>8.547000e+03</td>\n",
              "      <td>1.148600e+04</td>\n",
              "      <td>8.180000e+02</td>\n",
              "      <td>8.064000e+03</td>\n",
              "      <td>1.670000e+02</td>\n",
              "      <td>441.000000</td>\n",
              "    </tr>\n",
              "    <tr>\n",
              "      <th>mean</th>\n",
              "      <td>1.903473e+06</td>\n",
              "      <td>4.843183e+06</td>\n",
              "      <td>5.454838e+06</td>\n",
              "      <td>6.311677e+04</td>\n",
              "      <td>2.948137e+06</td>\n",
              "      <td>117191.362812</td>\n",
              "    </tr>\n",
              "    <tr>\n",
              "      <th>std</th>\n",
              "      <td>7.206434e+06</td>\n",
              "      <td>1.180446e+07</td>\n",
              "      <td>1.163650e+07</td>\n",
              "      <td>6.525746e+05</td>\n",
              "      <td>3.227287e+07</td>\n",
              "      <td>177792.638360</td>\n",
              "    </tr>\n",
              "    <tr>\n",
              "      <th>min</th>\n",
              "      <td>3.000000e+00</td>\n",
              "      <td>1.000000e+00</td>\n",
              "      <td>1.000000e+00</td>\n",
              "      <td>1.000000e+00</td>\n",
              "      <td>2.500000e+01</td>\n",
              "      <td>7.000000</td>\n",
              "    </tr>\n",
              "    <tr>\n",
              "      <th>25%</th>\n",
              "      <td>4.599130e+05</td>\n",
              "      <td>5.805600e+04</td>\n",
              "      <td>1.721535e+05</td>\n",
              "      <td>1.150750e+03</td>\n",
              "      <td>2.802500e+03</td>\n",
              "      <td>3136.000000</td>\n",
              "    </tr>\n",
              "    <tr>\n",
              "      <th>50%</th>\n",
              "      <td>1.018766e+06</td>\n",
              "      <td>3.969905e+05</td>\n",
              "      <td>7.603305e+05</td>\n",
              "      <td>4.919000e+03</td>\n",
              "      <td>1.104600e+04</td>\n",
              "      <td>15636.000000</td>\n",
              "    </tr>\n",
              "    <tr>\n",
              "      <th>75%</th>\n",
              "      <td>2.104158e+06</td>\n",
              "      <td>3.198895e+06</td>\n",
              "      <td>1.426256e+06</td>\n",
              "      <td>1.798875e+04</td>\n",
              "      <td>5.869520e+05</td>\n",
              "      <td>186916.000000</td>\n",
              "    </tr>\n",
              "    <tr>\n",
              "      <th>max</th>\n",
              "      <td>5.558942e+08</td>\n",
              "      <td>1.663854e+08</td>\n",
              "      <td>5.003856e+07</td>\n",
              "      <td>4.646015e+07</td>\n",
              "      <td>4.172977e+08</td>\n",
              "      <td>799499.000000</td>\n",
              "    </tr>\n",
              "    <tr>\n",
              "      <th rowspan=\"8\" valign=\"top\">fuel_mmbtu_per_unit</th>\n",
              "      <th>count</th>\n",
              "      <td>8.547000e+03</td>\n",
              "      <td>1.148600e+04</td>\n",
              "      <td>8.180000e+02</td>\n",
              "      <td>8.064000e+03</td>\n",
              "      <td>1.670000e+02</td>\n",
              "      <td>441.000000</td>\n",
              "    </tr>\n",
              "    <tr>\n",
              "      <th>mean</th>\n",
              "      <td>2.076278e+01</td>\n",
              "      <td>1.021913e+00</td>\n",
              "      <td>1.758212e+01</td>\n",
              "      <td>5.814377e+00</td>\n",
              "      <td>5.727524e-01</td>\n",
              "      <td>0.341163</td>\n",
              "    </tr>\n",
              "    <tr>\n",
              "      <th>std</th>\n",
              "      <td>3.557467e+00</td>\n",
              "      <td>2.527043e-02</td>\n",
              "      <td>3.682322e+01</td>\n",
              "      <td>2.053009e-01</td>\n",
              "      <td>6.334943e+00</td>\n",
              "      <td>1.646289</td>\n",
              "    </tr>\n",
              "    <tr>\n",
              "      <th>min</th>\n",
              "      <td>1.016800e+01</td>\n",
              "      <td>8.271000e-01</td>\n",
              "      <td>1.000000e-06</td>\n",
              "      <td>3.103044e+00</td>\n",
              "      <td>4.800000e-05</td>\n",
              "      <td>0.000009</td>\n",
              "    </tr>\n",
              "    <tr>\n",
              "      <th>25%</th>\n",
              "      <td>1.740800e+01</td>\n",
              "      <td>1.010000e+00</td>\n",
              "      <td>8.200000e-05</td>\n",
              "      <td>5.762064e+00</td>\n",
              "      <td>7.187000e-03</td>\n",
              "      <td>0.005508</td>\n",
              "    </tr>\n",
              "    <tr>\n",
              "      <th>50%</th>\n",
              "      <td>2.125000e+01</td>\n",
              "      <td>1.022000e+00</td>\n",
              "      <td>1.079945e-01</td>\n",
              "      <td>5.813073e+00</td>\n",
              "      <td>1.395000e-02</td>\n",
              "      <td>0.012315</td>\n",
              "    </tr>\n",
              "    <tr>\n",
              "      <th>75%</th>\n",
              "      <td>2.414100e+01</td>\n",
              "      <td>1.032488e+00</td>\n",
              "      <td>3.412975e+00</td>\n",
              "      <td>5.880000e+00</td>\n",
              "      <td>1.384570e-01</td>\n",
              "      <td>0.015055</td>\n",
              "    </tr>\n",
              "    <tr>\n",
              "      <th>max</th>\n",
              "      <td>2.892639e+01</td>\n",
              "      <td>1.199200e+00</td>\n",
              "      <td>3.412600e+02</td>\n",
              "      <td>6.812190e+00</td>\n",
              "      <td>8.191012e+01</td>\n",
              "      <td>8.700000</td>\n",
              "    </tr>\n",
              "    <tr>\n",
              "      <th rowspan=\"8\" valign=\"top\">fuel_cost_per_unit_burned</th>\n",
              "      <th>count</th>\n",
              "      <td>8.547000e+03</td>\n",
              "      <td>1.148600e+04</td>\n",
              "      <td>8.180000e+02</td>\n",
              "      <td>8.064000e+03</td>\n",
              "      <td>1.670000e+02</td>\n",
              "      <td>441.000000</td>\n",
              "    </tr>\n",
              "    <tr>\n",
              "      <th>mean</th>\n",
              "      <td>6.742183e+01</td>\n",
              "      <td>1.365940e+01</td>\n",
              "      <td>4.955157e+03</td>\n",
              "      <td>1.688771e+02</td>\n",
              "      <td>1.825386e+01</td>\n",
              "      <td>19.518122</td>\n",
              "    </tr>\n",
              "    <tr>\n",
              "      <th>std</th>\n",
              "      <td>9.437714e+02</td>\n",
              "      <td>1.632866e+02</td>\n",
              "      <td>1.429193e+04</td>\n",
              "      <td>2.406101e+03</td>\n",
              "      <td>2.901688e+01</td>\n",
              "      <td>29.988017</td>\n",
              "    </tr>\n",
              "    <tr>\n",
              "      <th>min</th>\n",
              "      <td>0.000000e+00</td>\n",
              "      <td>0.000000e+00</td>\n",
              "      <td>0.000000e+00</td>\n",
              "      <td>0.000000e+00</td>\n",
              "      <td>-1.190400e+02</td>\n",
              "      <td>-276.080000</td>\n",
              "    </tr>\n",
              "    <tr>\n",
              "      <th>25%</th>\n",
              "      <td>2.395850e+01</td>\n",
              "      <td>3.230000e+00</td>\n",
              "      <td>1.601500e+00</td>\n",
              "      <td>3.761000e+01</td>\n",
              "      <td>2.632500e+00</td>\n",
              "      <td>10.335000</td>\n",
              "    </tr>\n",
              "    <tr>\n",
              "      <th>50%</th>\n",
              "      <td>3.331800e+01</td>\n",
              "      <td>4.650000e+00</td>\n",
              "      <td>3.252000e+01</td>\n",
              "      <td>6.894550e+01</td>\n",
              "      <td>9.064000e+00</td>\n",
              "      <td>21.933000</td>\n",
              "    </tr>\n",
              "    <tr>\n",
              "      <th>75%</th>\n",
              "      <td>4.466800e+01</td>\n",
              "      <td>6.960000e+00</td>\n",
              "      <td>5.085525e+01</td>\n",
              "      <td>9.868925e+01</td>\n",
              "      <td>2.005500e+01</td>\n",
              "      <td>32.650000</td>\n",
              "    </tr>\n",
              "    <tr>\n",
              "      <th>max</th>\n",
              "      <td>4.403332e+04</td>\n",
              "      <td>1.049000e+04</td>\n",
              "      <td>6.978521e+04</td>\n",
              "      <td>1.393580e+05</td>\n",
              "      <td>1.345470e+02</td>\n",
              "      <td>132.291000</td>\n",
              "    </tr>\n",
              "    <tr>\n",
              "      <th rowspan=\"8\" valign=\"top\">fuel_cost_per_unit_delivered</th>\n",
              "      <th>count</th>\n",
              "      <td>8.547000e+03</td>\n",
              "      <td>1.148600e+04</td>\n",
              "      <td>8.180000e+02</td>\n",
              "      <td>8.064000e+03</td>\n",
              "      <td>1.670000e+02</td>\n",
              "      <td>441.000000</td>\n",
              "    </tr>\n",
              "    <tr>\n",
              "      <th>mean</th>\n",
              "      <td>1.169511e+02</td>\n",
              "      <td>1.209517e+01</td>\n",
              "      <td>2.861692e+04</td>\n",
              "      <td>3.139077e+02</td>\n",
              "      <td>1.687149e+01</td>\n",
              "      <td>18.413052</td>\n",
              "    </tr>\n",
              "    <tr>\n",
              "      <th>std</th>\n",
              "      <td>4.043733e+03</td>\n",
              "      <td>1.570328e+02</td>\n",
              "      <td>4.112873e+05</td>\n",
              "      <td>9.015713e+03</td>\n",
              "      <td>2.765920e+01</td>\n",
              "      <td>27.966921</td>\n",
              "    </tr>\n",
              "    <tr>\n",
              "      <th>min</th>\n",
              "      <td>-4.072500e+01</td>\n",
              "      <td>0.000000e+00</td>\n",
              "      <td>0.000000e+00</td>\n",
              "      <td>-8.749370e+02</td>\n",
              "      <td>-1.183400e+02</td>\n",
              "      <td>-174.670000</td>\n",
              "    </tr>\n",
              "    <tr>\n",
              "      <th>25%</th>\n",
              "      <td>2.174000e+01</td>\n",
              "      <td>2.830000e+00</td>\n",
              "      <td>0.000000e+00</td>\n",
              "      <td>3.215450e+01</td>\n",
              "      <td>2.483000e+00</td>\n",
              "      <td>7.240000</td>\n",
              "    </tr>\n",
              "    <tr>\n",
              "      <th>50%</th>\n",
              "      <td>3.140700e+01</td>\n",
              "      <td>4.295000e+00</td>\n",
              "      <td>0.000000e+00</td>\n",
              "      <td>5.824000e+01</td>\n",
              "      <td>8.500000e+00</td>\n",
              "      <td>21.560000</td>\n",
              "    </tr>\n",
              "    <tr>\n",
              "      <th>75%</th>\n",
              "      <td>4.338050e+01</td>\n",
              "      <td>6.492500e+00</td>\n",
              "      <td>2.891900e+01</td>\n",
              "      <td>9.574075e+01</td>\n",
              "      <td>1.985300e+01</td>\n",
              "      <td>31.330000</td>\n",
              "    </tr>\n",
              "    <tr>\n",
              "      <th>max</th>\n",
              "      <td>2.706040e+05</td>\n",
              "      <td>1.049000e+04</td>\n",
              "      <td>7.964521e+06</td>\n",
              "      <td>7.301660e+05</td>\n",
              "      <td>1.322090e+02</td>\n",
              "      <td>121.020000</td>\n",
              "    </tr>\n",
              "    <tr>\n",
              "      <th rowspan=\"8\" valign=\"top\">fuel_cost_per_mmbtu</th>\n",
              "      <th>count</th>\n",
              "      <td>8.547000e+03</td>\n",
              "      <td>1.148600e+04</td>\n",
              "      <td>8.180000e+02</td>\n",
              "      <td>8.064000e+03</td>\n",
              "      <td>1.670000e+02</td>\n",
              "      <td>441.000000</td>\n",
              "    </tr>\n",
              "    <tr>\n",
              "      <th>mean</th>\n",
              "      <td>1.787190e+00</td>\n",
              "      <td>5.408876e+00</td>\n",
              "      <td>1.716559e+00</td>\n",
              "      <td>1.269873e+01</td>\n",
              "      <td>1.550849e+02</td>\n",
              "      <td>822.709937</td>\n",
              "    </tr>\n",
              "    <tr>\n",
              "      <th>std</th>\n",
              "      <td>8.024193e-01</td>\n",
              "      <td>3.546643e+00</td>\n",
              "      <td>8.707260e+00</td>\n",
              "      <td>6.216686e+00</td>\n",
              "      <td>6.412767e+02</td>\n",
              "      <td>17108.166064</td>\n",
              "    </tr>\n",
              "    <tr>\n",
              "      <th>min</th>\n",
              "      <td>5.000000e-01</td>\n",
              "      <td>1.005000e+00</td>\n",
              "      <td>0.000000e+00</td>\n",
              "      <td>5.000000e+00</td>\n",
              "      <td>-5.750000e+00</td>\n",
              "      <td>-41.501000</td>\n",
              "    </tr>\n",
              "    <tr>\n",
              "      <th>25%</th>\n",
              "      <td>1.210000e+00</td>\n",
              "      <td>3.130000e+00</td>\n",
              "      <td>4.242500e-01</td>\n",
              "      <td>6.660000e+00</td>\n",
              "      <td>5.070000e-01</td>\n",
              "      <td>0.692000</td>\n",
              "    </tr>\n",
              "    <tr>\n",
              "      <th>50%</th>\n",
              "      <td>1.586000e+00</td>\n",
              "      <td>4.500000e+00</td>\n",
              "      <td>4.840000e-01</td>\n",
              "      <td>1.215850e+01</td>\n",
              "      <td>1.640000e+00</td>\n",
              "      <td>1.139000</td>\n",
              "    </tr>\n",
              "    <tr>\n",
              "      <th>75%</th>\n",
              "      <td>2.163000e+00</td>\n",
              "      <td>6.682250e+00</td>\n",
              "      <td>6.347500e-01</td>\n",
              "      <td>1.719900e+01</td>\n",
              "      <td>3.027000e+00</td>\n",
              "      <td>2.170000</td>\n",
              "    </tr>\n",
              "    <tr>\n",
              "      <th>max</th>\n",
              "      <td>6.895000e+00</td>\n",
              "      <td>3.497479e+01</td>\n",
              "      <td>1.070000e+02</td>\n",
              "      <td>3.300000e+01</td>\n",
              "      <td>3.515924e+03</td>\n",
              "      <td>359278.000000</td>\n",
              "    </tr>\n",
              "  </tbody>\n",
              "</table>\n",
              "</div>"
            ],
            "text/plain": [
              "fuel_type_code_pudl                         coal  ...          waste\n",
              "utility_id_ferc1             count  8.547000e+03  ...     441.000000\n",
              "                             mean   1.156375e+02  ...     154.253968\n",
              "                             std    7.285933e+01  ...      53.367073\n",
              "                             min    1.000000e+00  ...       9.000000\n",
              "                             25%    5.100000e+01  ...     121.000000\n",
              "                             50%    1.220000e+02  ...     182.000000\n",
              "                             75%    1.740000e+02  ...     194.000000\n",
              "                             max    5.140000e+02  ...     432.000000\n",
              "report_year                  count  8.547000e+03  ...     441.000000\n",
              "                             mean   2.004623e+03  ...    2005.650794\n",
              "                             std    7.137389e+00  ...       7.460231\n",
              "                             min    1.994000e+03  ...    1994.000000\n",
              "                             25%    1.998000e+03  ...    1998.000000\n",
              "                             50%    2.004000e+03  ...    2006.000000\n",
              "                             75%    2.011000e+03  ...    2012.000000\n",
              "                             max    2.018000e+03  ...    2018.000000\n",
              "fuel_qty_burned              count  8.547000e+03  ...     441.000000\n",
              "                             mean   1.903473e+06  ...  117191.362812\n",
              "                             std    7.206434e+06  ...  177792.638360\n",
              "                             min    3.000000e+00  ...       7.000000\n",
              "                             25%    4.599130e+05  ...    3136.000000\n",
              "                             50%    1.018766e+06  ...   15636.000000\n",
              "                             75%    2.104158e+06  ...  186916.000000\n",
              "                             max    5.558942e+08  ...  799499.000000\n",
              "fuel_mmbtu_per_unit          count  8.547000e+03  ...     441.000000\n",
              "                             mean   2.076278e+01  ...       0.341163\n",
              "                             std    3.557467e+00  ...       1.646289\n",
              "                             min    1.016800e+01  ...       0.000009\n",
              "                             25%    1.740800e+01  ...       0.005508\n",
              "                             50%    2.125000e+01  ...       0.012315\n",
              "                             75%    2.414100e+01  ...       0.015055\n",
              "                             max    2.892639e+01  ...       8.700000\n",
              "fuel_cost_per_unit_burned    count  8.547000e+03  ...     441.000000\n",
              "                             mean   6.742183e+01  ...      19.518122\n",
              "                             std    9.437714e+02  ...      29.988017\n",
              "                             min    0.000000e+00  ...    -276.080000\n",
              "                             25%    2.395850e+01  ...      10.335000\n",
              "                             50%    3.331800e+01  ...      21.933000\n",
              "                             75%    4.466800e+01  ...      32.650000\n",
              "                             max    4.403332e+04  ...     132.291000\n",
              "fuel_cost_per_unit_delivered count  8.547000e+03  ...     441.000000\n",
              "                             mean   1.169511e+02  ...      18.413052\n",
              "                             std    4.043733e+03  ...      27.966921\n",
              "                             min   -4.072500e+01  ...    -174.670000\n",
              "                             25%    2.174000e+01  ...       7.240000\n",
              "                             50%    3.140700e+01  ...      21.560000\n",
              "                             75%    4.338050e+01  ...      31.330000\n",
              "                             max    2.706040e+05  ...     121.020000\n",
              "fuel_cost_per_mmbtu          count  8.547000e+03  ...     441.000000\n",
              "                             mean   1.787190e+00  ...     822.709937\n",
              "                             std    8.024193e-01  ...   17108.166064\n",
              "                             min    5.000000e-01  ...     -41.501000\n",
              "                             25%    1.210000e+00  ...       0.692000\n",
              "                             50%    1.586000e+00  ...       1.139000\n",
              "                             75%    2.163000e+00  ...       2.170000\n",
              "                             max    6.895000e+00  ...  359278.000000\n",
              "\n",
              "[56 rows x 6 columns]"
            ]
          },
          "metadata": {
            "tags": []
          },
          "execution_count": 73
        }
      ]
    },
    {
      "cell_type": "code",
      "metadata": {
        "colab": {
          "base_uri": "https://localhost:8080/",
          "height": 266
        },
        "id": "koD749krnCaB",
        "outputId": "ae4c2209-3f55-4183-95ea-91a25680fe19"
      },
      "source": [
        "hd.describe().transpose()"
      ],
      "execution_count": 52,
      "outputs": [
        {
          "output_type": "execute_result",
          "data": {
            "text/html": [
              "<div>\n",
              "<style scoped>\n",
              "    .dataframe tbody tr th:only-of-type {\n",
              "        vertical-align: middle;\n",
              "    }\n",
              "\n",
              "    .dataframe tbody tr th {\n",
              "        vertical-align: top;\n",
              "    }\n",
              "\n",
              "    .dataframe thead th {\n",
              "        text-align: right;\n",
              "    }\n",
              "</style>\n",
              "<table border=\"1\" class=\"dataframe\">\n",
              "  <thead>\n",
              "    <tr style=\"text-align: right;\">\n",
              "      <th></th>\n",
              "      <th>count</th>\n",
              "      <th>mean</th>\n",
              "      <th>std</th>\n",
              "      <th>min</th>\n",
              "      <th>25%</th>\n",
              "      <th>50%</th>\n",
              "      <th>75%</th>\n",
              "      <th>max</th>\n",
              "    </tr>\n",
              "  </thead>\n",
              "  <tbody>\n",
              "    <tr>\n",
              "      <th>utility_id_ferc1</th>\n",
              "      <td>29523.0</td>\n",
              "      <td>1.186018e+02</td>\n",
              "      <td>7.417835e+01</td>\n",
              "      <td>1.000000</td>\n",
              "      <td>55.0000</td>\n",
              "      <td>122.000000</td>\n",
              "      <td>176.000</td>\n",
              "      <td>5.140000e+02</td>\n",
              "    </tr>\n",
              "    <tr>\n",
              "      <th>report_year</th>\n",
              "      <td>29523.0</td>\n",
              "      <td>2.005806e+03</td>\n",
              "      <td>7.025483e+00</td>\n",
              "      <td>1994.000000</td>\n",
              "      <td>2000.0000</td>\n",
              "      <td>2006.000000</td>\n",
              "      <td>2012.000</td>\n",
              "      <td>2.018000e+03</td>\n",
              "    </tr>\n",
              "    <tr>\n",
              "      <th>fuel_qty_burned</th>\n",
              "      <td>29523.0</td>\n",
              "      <td>2.622119e+06</td>\n",
              "      <td>9.118004e+06</td>\n",
              "      <td>1.000000</td>\n",
              "      <td>13817.0000</td>\n",
              "      <td>253322.000000</td>\n",
              "      <td>1424034.000</td>\n",
              "      <td>5.558942e+08</td>\n",
              "    </tr>\n",
              "    <tr>\n",
              "      <th>fuel_mmbtu_per_unit</th>\n",
              "      <td>29523.0</td>\n",
              "      <td>8.492111e+00</td>\n",
              "      <td>1.060022e+01</td>\n",
              "      <td>0.000001</td>\n",
              "      <td>1.0240</td>\n",
              "      <td>5.762694</td>\n",
              "      <td>17.006</td>\n",
              "      <td>3.412600e+02</td>\n",
              "    </tr>\n",
              "    <tr>\n",
              "      <th>fuel_cost_per_unit_burned</th>\n",
              "      <td>29523.0</td>\n",
              "      <td>2.086490e+02</td>\n",
              "      <td>2.854490e+03</td>\n",
              "      <td>-276.080000</td>\n",
              "      <td>5.2070</td>\n",
              "      <td>26.000000</td>\n",
              "      <td>47.113</td>\n",
              "      <td>1.393580e+05</td>\n",
              "    </tr>\n",
              "    <tr>\n",
              "      <th>fuel_cost_per_unit_delivered</th>\n",
              "      <td>29523.0</td>\n",
              "      <td>9.175704e+02</td>\n",
              "      <td>6.877593e+04</td>\n",
              "      <td>-874.937000</td>\n",
              "      <td>3.7785</td>\n",
              "      <td>17.371000</td>\n",
              "      <td>42.137</td>\n",
              "      <td>7.964521e+06</td>\n",
              "    </tr>\n",
              "    <tr>\n",
              "      <th>fuel_cost_per_mmbtu</th>\n",
              "      <td>29523.0</td>\n",
              "      <td>1.930435e+01</td>\n",
              "      <td>2.091541e+03</td>\n",
              "      <td>-41.501000</td>\n",
              "      <td>1.9400</td>\n",
              "      <td>4.127000</td>\n",
              "      <td>7.745</td>\n",
              "      <td>3.592780e+05</td>\n",
              "    </tr>\n",
              "  </tbody>\n",
              "</table>\n",
              "</div>"
            ],
            "text/plain": [
              "                                count          mean  ...          75%           max\n",
              "utility_id_ferc1              29523.0  1.186018e+02  ...      176.000  5.140000e+02\n",
              "report_year                   29523.0  2.005806e+03  ...     2012.000  2.018000e+03\n",
              "fuel_qty_burned               29523.0  2.622119e+06  ...  1424034.000  5.558942e+08\n",
              "fuel_mmbtu_per_unit           29523.0  8.492111e+00  ...       17.006  3.412600e+02\n",
              "fuel_cost_per_unit_burned     29523.0  2.086490e+02  ...       47.113  1.393580e+05\n",
              "fuel_cost_per_unit_delivered  29523.0  9.175704e+02  ...       42.137  7.964521e+06\n",
              "fuel_cost_per_mmbtu           29523.0  1.930435e+01  ...        7.745  3.592780e+05\n",
              "\n",
              "[7 rows x 8 columns]"
            ]
          },
          "metadata": {
            "tags": []
          },
          "execution_count": 52
        }
      ]
    },
    {
      "cell_type": "code",
      "metadata": {
        "colab": {
          "base_uri": "https://localhost:8080/",
          "height": 286
        },
        "id": "ag3vftIxnIG1",
        "outputId": "4c61b1c9-c08a-4c8c-e61e-49839d6add7b"
      },
      "source": [
        "hd.corr()"
      ],
      "execution_count": 7,
      "outputs": [
        {
          "output_type": "execute_result",
          "data": {
            "text/html": [
              "<div>\n",
              "<style scoped>\n",
              "    .dataframe tbody tr th:only-of-type {\n",
              "        vertical-align: middle;\n",
              "    }\n",
              "\n",
              "    .dataframe tbody tr th {\n",
              "        vertical-align: top;\n",
              "    }\n",
              "\n",
              "    .dataframe thead th {\n",
              "        text-align: right;\n",
              "    }\n",
              "</style>\n",
              "<table border=\"1\" class=\"dataframe\">\n",
              "  <thead>\n",
              "    <tr style=\"text-align: right;\">\n",
              "      <th></th>\n",
              "      <th>utility_id_ferc1</th>\n",
              "      <th>report_year</th>\n",
              "      <th>fuel_qty_burned</th>\n",
              "      <th>fuel_mmbtu_per_unit</th>\n",
              "      <th>fuel_cost_per_unit_burned</th>\n",
              "      <th>fuel_cost_per_unit_delivered</th>\n",
              "      <th>fuel_cost_per_mmbtu</th>\n",
              "    </tr>\n",
              "  </thead>\n",
              "  <tbody>\n",
              "    <tr>\n",
              "      <th>utility_id_ferc1</th>\n",
              "      <td>1.000000</td>\n",
              "      <td>0.093323</td>\n",
              "      <td>-0.057447</td>\n",
              "      <td>-0.066946</td>\n",
              "      <td>-0.037863</td>\n",
              "      <td>-0.016414</td>\n",
              "      <td>0.006122</td>\n",
              "    </tr>\n",
              "    <tr>\n",
              "      <th>report_year</th>\n",
              "      <td>0.093323</td>\n",
              "      <td>1.000000</td>\n",
              "      <td>0.012952</td>\n",
              "      <td>-0.110853</td>\n",
              "      <td>0.013599</td>\n",
              "      <td>-0.014043</td>\n",
              "      <td>0.010261</td>\n",
              "    </tr>\n",
              "    <tr>\n",
              "      <th>fuel_qty_burned</th>\n",
              "      <td>-0.057447</td>\n",
              "      <td>0.012952</td>\n",
              "      <td>1.000000</td>\n",
              "      <td>-0.080946</td>\n",
              "      <td>-0.018535</td>\n",
              "      <td>-0.003551</td>\n",
              "      <td>-0.001896</td>\n",
              "    </tr>\n",
              "    <tr>\n",
              "      <th>fuel_mmbtu_per_unit</th>\n",
              "      <td>-0.066946</td>\n",
              "      <td>-0.110853</td>\n",
              "      <td>-0.080946</td>\n",
              "      <td>1.000000</td>\n",
              "      <td>-0.010034</td>\n",
              "      <td>-0.009039</td>\n",
              "      <td>-0.005884</td>\n",
              "    </tr>\n",
              "    <tr>\n",
              "      <th>fuel_cost_per_unit_burned</th>\n",
              "      <td>-0.037863</td>\n",
              "      <td>0.013599</td>\n",
              "      <td>-0.018535</td>\n",
              "      <td>-0.010034</td>\n",
              "      <td>1.000000</td>\n",
              "      <td>0.011007</td>\n",
              "      <td>-0.000437</td>\n",
              "    </tr>\n",
              "    <tr>\n",
              "      <th>fuel_cost_per_unit_delivered</th>\n",
              "      <td>-0.016414</td>\n",
              "      <td>-0.014043</td>\n",
              "      <td>-0.003551</td>\n",
              "      <td>-0.009039</td>\n",
              "      <td>0.011007</td>\n",
              "      <td>1.000000</td>\n",
              "      <td>-0.000109</td>\n",
              "    </tr>\n",
              "    <tr>\n",
              "      <th>fuel_cost_per_mmbtu</th>\n",
              "      <td>0.006122</td>\n",
              "      <td>0.010261</td>\n",
              "      <td>-0.001896</td>\n",
              "      <td>-0.005884</td>\n",
              "      <td>-0.000437</td>\n",
              "      <td>-0.000109</td>\n",
              "      <td>1.000000</td>\n",
              "    </tr>\n",
              "  </tbody>\n",
              "</table>\n",
              "</div>"
            ],
            "text/plain": [
              "                              utility_id_ferc1  ...  fuel_cost_per_mmbtu\n",
              "utility_id_ferc1                      1.000000  ...             0.006122\n",
              "report_year                           0.093323  ...             0.010261\n",
              "fuel_qty_burned                      -0.057447  ...            -0.001896\n",
              "fuel_mmbtu_per_unit                  -0.066946  ...            -0.005884\n",
              "fuel_cost_per_unit_burned            -0.037863  ...            -0.000437\n",
              "fuel_cost_per_unit_delivered         -0.016414  ...            -0.000109\n",
              "fuel_cost_per_mmbtu                   0.006122  ...             1.000000\n",
              "\n",
              "[7 rows x 7 columns]"
            ]
          },
          "metadata": {
            "tags": []
          },
          "execution_count": 7
        }
      ]
    },
    {
      "cell_type": "code",
      "metadata": {
        "colab": {
          "base_uri": "https://localhost:8080/"
        },
        "id": "x9YLJT8Pw_Y2",
        "outputId": "d8c9f61c-f16e-4e7e-dcf2-dda58d887dfa"
      },
      "source": [
        "print(hd.skew())"
      ],
      "execution_count": 36,
      "outputs": [
        {
          "output_type": "stream",
          "text": [
            "utility_id_ferc1                  0.605070\n",
            "report_year                       0.006953\n",
            "fuel_qty_burned                  15.851495\n",
            "fuel_mmbtu_per_unit               4.135217\n",
            "fuel_cost_per_unit_burned        19.787440\n",
            "fuel_cost_per_unit_delivered    105.014227\n",
            "fuel_cost_per_mmbtu             171.675535\n",
            "dtype: float64\n"
          ],
          "name": "stdout"
        }
      ]
    },
    {
      "cell_type": "code",
      "metadata": {
        "colab": {
          "base_uri": "https://localhost:8080/"
        },
        "id": "HiP5gRZ_xEVC",
        "outputId": "3bb7b948-a40d-4fcd-f55f-3e84378a18b7"
      },
      "source": [
        "print(hd.kurtosis())"
      ],
      "execution_count": 37,
      "outputs": [
        {
          "output_type": "stream",
          "text": [
            "utility_id_ferc1                    1.088432\n",
            "report_year                        -1.145656\n",
            "fuel_qty_burned                   651.369450\n",
            "fuel_mmbtu_per_unit                55.595695\n",
            "fuel_cost_per_unit_burned         485.255851\n",
            "fuel_cost_per_unit_delivered    11765.054226\n",
            "fuel_cost_per_mmbtu             29489.132594\n",
            "dtype: float64\n"
          ],
          "name": "stdout"
        }
      ]
    },
    {
      "cell_type": "code",
      "metadata": {
        "colab": {
          "base_uri": "https://localhost:8080/"
        },
        "id": "WOFUFcIlpBVd",
        "outputId": "974dc048-ee85-4a38-f06f-ed986c355155"
      },
      "source": [
        "hd.groupby('report_year')['report_year'].count()"
      ],
      "execution_count": 11,
      "outputs": [
        {
          "output_type": "execute_result",
          "data": {
            "text/plain": [
              "report_year\n",
              "1994    1235\n",
              "1995    1201\n",
              "1996    1088\n",
              "1997    1094\n",
              "1998    1107\n",
              "1999    1050\n",
              "2000    1373\n",
              "2001    1356\n",
              "2002    1205\n",
              "2003    1211\n",
              "2004    1192\n",
              "2005    1269\n",
              "2006    1243\n",
              "2007    1264\n",
              "2008    1228\n",
              "2009    1222\n",
              "2010    1261\n",
              "2011    1240\n",
              "2012    1243\n",
              "2013    1199\n",
              "2014    1171\n",
              "2015    1093\n",
              "2016    1034\n",
              "2017     993\n",
              "2018     951\n",
              "Name: report_year, dtype: int64"
            ]
          },
          "metadata": {
            "tags": []
          },
          "execution_count": 11
        }
      ]
    },
    {
      "cell_type": "code",
      "metadata": {
        "colab": {
          "base_uri": "https://localhost:8080/"
        },
        "id": "Gb_zYEgCrNme",
        "outputId": "83d2c139-3f06-442a-81bc-6430ed23a5be"
      },
      "source": [
        "hd.groupby('report_year')['report_year'].nunique().sum()"
      ],
      "execution_count": 23,
      "outputs": [
        {
          "output_type": "execute_result",
          "data": {
            "text/plain": [
              "25"
            ]
          },
          "metadata": {
            "tags": []
          },
          "execution_count": 23
        }
      ]
    },
    {
      "cell_type": "code",
      "metadata": {
        "colab": {
          "base_uri": "https://localhost:8080/"
        },
        "id": "u5WusVDgpurh",
        "outputId": "1e09e82c-ede9-4817-da58-4363d7286449"
      },
      "source": [
        "hd.groupby('fuel_type_code_pudl')['fuel_type_code_pudl'].nunique().sum()"
      ],
      "execution_count": 22,
      "outputs": [
        {
          "output_type": "execute_result",
          "data": {
            "text/plain": [
              "6"
            ]
          },
          "metadata": {
            "tags": []
          },
          "execution_count": 22
        }
      ]
    },
    {
      "cell_type": "code",
      "metadata": {
        "colab": {
          "base_uri": "https://localhost:8080/"
        },
        "id": "3nPhI8iUzyZJ",
        "outputId": "52f55767-10fa-4b4e-cd4f-273622a37919"
      },
      "source": [
        "hd.groupby('fuel_cost_per_unit_burned').mean().value_counts().head()"
      ],
      "execution_count": 60,
      "outputs": [
        {
          "output_type": "execute_result",
          "data": {
            "text/plain": [
              "utility_id_ferc1  report_year  fuel_qty_burned  fuel_mmbtu_per_unit  fuel_cost_per_unit_delivered  fuel_cost_per_mmbtu\n",
              "514.0             2018.0       127328.0         16.856               37.233                        2.030                  1\n",
              "75.0              1996.0       104078.0         22.808               26.270                        1.119                  1\n",
              "                               440731.0         22.640               29.500                        1.298                  1\n",
              "                               577621.0         16.918               11.830                        0.701                  1\n",
              "                               644353.0         17.378               38.240                        2.336                  1\n",
              "dtype: int64"
            ]
          },
          "metadata": {
            "tags": []
          },
          "execution_count": 60
        }
      ]
    },
    {
      "cell_type": "code",
      "metadata": {
        "colab": {
          "base_uri": "https://localhost:8080/"
        },
        "id": "LfE3EEAQx6hh",
        "outputId": "58201575-2ad9-449d-829b-2f08288ae607"
      },
      "source": [
        "ryr = hd.groupby(['report_year', 'fuel_cost_per_unit_delivered'])['report_year'].mean()\n",
        "ryrm = max(ryr)\n",
        "print(n)"
      ],
      "execution_count": 74,
      "outputs": [
        {
          "output_type": "stream",
          "text": [
            "2018\n"
          ],
          "name": "stdout"
        }
      ]
    }
  ]
}